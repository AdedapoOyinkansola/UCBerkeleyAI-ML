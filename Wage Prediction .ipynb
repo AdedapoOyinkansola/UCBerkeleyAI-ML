{
 "cells": [
  {
   "cell_type": "markdown",
   "metadata": {},
   "source": [
    "### Try-it 9.2: Predicting Wages\n",
    "\n",
    "This activity is meant to summarize your work with regularized regression models.  You will use your earlier work with data preparation and pipelines together with what you've learned with grid searches to determine an optimal model.  In addition to the prior strategies, this example is an excellent opportunity to utilize the `TransformedTargetRegressor` estimator in scikitlearn."
   ]
  },
  {
   "cell_type": "markdown",
   "metadata": {},
   "source": [
    "### The Data\n",
    "\n",
    "This dataset is loaded from the openml resource library.  Originally from census data, the data contains wage and demographic information on 534 individuals. From the dataset documentation [here](https://www.openml.org/d/534)\n",
    "\n",
    "```\n",
    "The Current Population Survey (CPS) is used to supplement census information between census years. These data consist of a random sample of 534 persons from the CPS, with information on wages and other characteristics of the workers, including sex, number of years of education, years of work experience, occupational status, region of residence and union membership. \n",
    "```"
   ]
  },
  {
   "cell_type": "code",
   "execution_count": 1,
   "metadata": {},
   "outputs": [],
   "source": [
    "from sklearn.datasets import fetch_openml"
   ]
  },
  {
   "cell_type": "code",
   "execution_count": 2,
   "metadata": {},
   "outputs": [],
   "source": [
    "wages = fetch_openml(data_id=534, as_frame=True)"
   ]
  },
  {
   "cell_type": "code",
   "execution_count": 7,
   "metadata": {},
   "outputs": [],
   "source": [
    "df = wages.frame"
   ]
  },
  {
   "cell_type": "code",
   "execution_count": 8,
   "metadata": {},
   "outputs": [
    {
     "data": {
      "text/html": [
       "<div>\n",
       "<style scoped>\n",
       "    .dataframe tbody tr th:only-of-type {\n",
       "        vertical-align: middle;\n",
       "    }\n",
       "\n",
       "    .dataframe tbody tr th {\n",
       "        vertical-align: top;\n",
       "    }\n",
       "\n",
       "    .dataframe thead th {\n",
       "        text-align: right;\n",
       "    }\n",
       "</style>\n",
       "<table border=\"1\" class=\"dataframe\">\n",
       "  <thead>\n",
       "    <tr style=\"text-align: right;\">\n",
       "      <th></th>\n",
       "      <th>EDUCATION</th>\n",
       "      <th>SOUTH</th>\n",
       "      <th>SEX</th>\n",
       "      <th>EXPERIENCE</th>\n",
       "      <th>UNION</th>\n",
       "      <th>WAGE</th>\n",
       "      <th>AGE</th>\n",
       "      <th>RACE</th>\n",
       "      <th>OCCUPATION</th>\n",
       "      <th>SECTOR</th>\n",
       "      <th>MARR</th>\n",
       "    </tr>\n",
       "  </thead>\n",
       "  <tbody>\n",
       "    <tr>\n",
       "      <th>0</th>\n",
       "      <td>8.0</td>\n",
       "      <td>no</td>\n",
       "      <td>female</td>\n",
       "      <td>21.0</td>\n",
       "      <td>not_member</td>\n",
       "      <td>5.10</td>\n",
       "      <td>35.0</td>\n",
       "      <td>Hispanic</td>\n",
       "      <td>Other</td>\n",
       "      <td>Manufacturing</td>\n",
       "      <td>Married</td>\n",
       "    </tr>\n",
       "    <tr>\n",
       "      <th>1</th>\n",
       "      <td>9.0</td>\n",
       "      <td>no</td>\n",
       "      <td>female</td>\n",
       "      <td>42.0</td>\n",
       "      <td>not_member</td>\n",
       "      <td>4.95</td>\n",
       "      <td>57.0</td>\n",
       "      <td>White</td>\n",
       "      <td>Other</td>\n",
       "      <td>Manufacturing</td>\n",
       "      <td>Married</td>\n",
       "    </tr>\n",
       "    <tr>\n",
       "      <th>2</th>\n",
       "      <td>12.0</td>\n",
       "      <td>no</td>\n",
       "      <td>male</td>\n",
       "      <td>1.0</td>\n",
       "      <td>not_member</td>\n",
       "      <td>6.67</td>\n",
       "      <td>19.0</td>\n",
       "      <td>White</td>\n",
       "      <td>Other</td>\n",
       "      <td>Manufacturing</td>\n",
       "      <td>Unmarried</td>\n",
       "    </tr>\n",
       "    <tr>\n",
       "      <th>3</th>\n",
       "      <td>12.0</td>\n",
       "      <td>no</td>\n",
       "      <td>male</td>\n",
       "      <td>4.0</td>\n",
       "      <td>not_member</td>\n",
       "      <td>4.00</td>\n",
       "      <td>22.0</td>\n",
       "      <td>White</td>\n",
       "      <td>Other</td>\n",
       "      <td>Other</td>\n",
       "      <td>Unmarried</td>\n",
       "    </tr>\n",
       "    <tr>\n",
       "      <th>4</th>\n",
       "      <td>12.0</td>\n",
       "      <td>no</td>\n",
       "      <td>male</td>\n",
       "      <td>17.0</td>\n",
       "      <td>not_member</td>\n",
       "      <td>7.50</td>\n",
       "      <td>35.0</td>\n",
       "      <td>White</td>\n",
       "      <td>Other</td>\n",
       "      <td>Other</td>\n",
       "      <td>Married</td>\n",
       "    </tr>\n",
       "    <tr>\n",
       "      <th>...</th>\n",
       "      <td>...</td>\n",
       "      <td>...</td>\n",
       "      <td>...</td>\n",
       "      <td>...</td>\n",
       "      <td>...</td>\n",
       "      <td>...</td>\n",
       "      <td>...</td>\n",
       "      <td>...</td>\n",
       "      <td>...</td>\n",
       "      <td>...</td>\n",
       "      <td>...</td>\n",
       "    </tr>\n",
       "    <tr>\n",
       "      <th>529</th>\n",
       "      <td>18.0</td>\n",
       "      <td>no</td>\n",
       "      <td>male</td>\n",
       "      <td>5.0</td>\n",
       "      <td>not_member</td>\n",
       "      <td>11.36</td>\n",
       "      <td>29.0</td>\n",
       "      <td>White</td>\n",
       "      <td>Professional</td>\n",
       "      <td>Other</td>\n",
       "      <td>Unmarried</td>\n",
       "    </tr>\n",
       "    <tr>\n",
       "      <th>530</th>\n",
       "      <td>12.0</td>\n",
       "      <td>no</td>\n",
       "      <td>female</td>\n",
       "      <td>33.0</td>\n",
       "      <td>not_member</td>\n",
       "      <td>6.10</td>\n",
       "      <td>51.0</td>\n",
       "      <td>Other</td>\n",
       "      <td>Professional</td>\n",
       "      <td>Other</td>\n",
       "      <td>Married</td>\n",
       "    </tr>\n",
       "    <tr>\n",
       "      <th>531</th>\n",
       "      <td>17.0</td>\n",
       "      <td>no</td>\n",
       "      <td>female</td>\n",
       "      <td>25.0</td>\n",
       "      <td>member</td>\n",
       "      <td>23.25</td>\n",
       "      <td>48.0</td>\n",
       "      <td>Other</td>\n",
       "      <td>Professional</td>\n",
       "      <td>Other</td>\n",
       "      <td>Married</td>\n",
       "    </tr>\n",
       "    <tr>\n",
       "      <th>532</th>\n",
       "      <td>12.0</td>\n",
       "      <td>yes</td>\n",
       "      <td>male</td>\n",
       "      <td>13.0</td>\n",
       "      <td>member</td>\n",
       "      <td>19.88</td>\n",
       "      <td>31.0</td>\n",
       "      <td>White</td>\n",
       "      <td>Professional</td>\n",
       "      <td>Other</td>\n",
       "      <td>Married</td>\n",
       "    </tr>\n",
       "    <tr>\n",
       "      <th>533</th>\n",
       "      <td>16.0</td>\n",
       "      <td>no</td>\n",
       "      <td>male</td>\n",
       "      <td>33.0</td>\n",
       "      <td>not_member</td>\n",
       "      <td>15.38</td>\n",
       "      <td>55.0</td>\n",
       "      <td>White</td>\n",
       "      <td>Professional</td>\n",
       "      <td>Manufacturing</td>\n",
       "      <td>Married</td>\n",
       "    </tr>\n",
       "  </tbody>\n",
       "</table>\n",
       "<p>534 rows × 11 columns</p>\n",
       "</div>"
      ],
      "text/plain": [
       "     EDUCATION SOUTH     SEX  EXPERIENCE       UNION   WAGE   AGE      RACE  \\\n",
       "0          8.0    no  female        21.0  not_member   5.10  35.0  Hispanic   \n",
       "1          9.0    no  female        42.0  not_member   4.95  57.0     White   \n",
       "2         12.0    no    male         1.0  not_member   6.67  19.0     White   \n",
       "3         12.0    no    male         4.0  not_member   4.00  22.0     White   \n",
       "4         12.0    no    male        17.0  not_member   7.50  35.0     White   \n",
       "..         ...   ...     ...         ...         ...    ...   ...       ...   \n",
       "529       18.0    no    male         5.0  not_member  11.36  29.0     White   \n",
       "530       12.0    no  female        33.0  not_member   6.10  51.0     Other   \n",
       "531       17.0    no  female        25.0      member  23.25  48.0     Other   \n",
       "532       12.0   yes    male        13.0      member  19.88  31.0     White   \n",
       "533       16.0    no    male        33.0  not_member  15.38  55.0     White   \n",
       "\n",
       "       OCCUPATION         SECTOR       MARR  \n",
       "0           Other  Manufacturing    Married  \n",
       "1           Other  Manufacturing    Married  \n",
       "2           Other  Manufacturing  Unmarried  \n",
       "3           Other          Other  Unmarried  \n",
       "4           Other          Other    Married  \n",
       "..            ...            ...        ...  \n",
       "529  Professional          Other  Unmarried  \n",
       "530  Professional          Other    Married  \n",
       "531  Professional          Other    Married  \n",
       "532  Professional          Other    Married  \n",
       "533  Professional  Manufacturing    Married  \n",
       "\n",
       "[534 rows x 11 columns]"
      ]
     },
     "execution_count": 8,
     "metadata": {},
     "output_type": "execute_result"
    }
   ],
   "source": [
    "df"
   ]
  },
  {
   "cell_type": "code",
   "execution_count": 16,
   "metadata": {},
   "outputs": [
    {
     "data": {
      "text/plain": [
       "Married      350\n",
       "Unmarried    184\n",
       "Name: MARR, dtype: int64"
      ]
     },
     "execution_count": 16,
     "metadata": {},
     "output_type": "execute_result"
    }
   ],
   "source": [
    "df['MARR'].value_counts()"
   ]
  },
  {
   "cell_type": "code",
   "execution_count": null,
   "metadata": {},
   "outputs": [],
   "source": []
  },
  {
   "cell_type": "markdown",
   "metadata": {},
   "source": [
    "#### Task\n",
    "\n",
    "Build regression models to predict `WAGE`.  Incorporate the categorical features and transform the target using a logarithm.  Build `Ridge` models and consider some different amounts of regularization.  \n",
    "\n",
    "After fitting your model, interpret the model and try to understand what features led to higher wages.  Consider using `permutation_importance` that you encountered in module 8.  Discuss your findings in the class forum.\n",
    "\n",
    "For an in depth example discussing the perils of interpreting the coefficients see the example in scikitlearn examples [here](https://scikit-learn.org/stable/auto_examples/inspection/plot_linear_model_coefficient_interpretation.html)."
   ]
  },
  {
   "cell_type": "code",
   "execution_count": 47,
   "metadata": {},
   "outputs": [],
   "source": [
    "from sklearn.pipeline import Pipeline\n",
    "from sklearn.model_selection import GridSearchCV\n",
    "from sklearn.model_selection import train_test_split\n",
    "from sklearn.linear_model import LinearRegression, Ridge, Lasso\n",
    "from sklearn.metrics import mean_squared_error\n",
    "from sklearn.preprocessing import PolynomialFeatures, StandardScaler, OneHotEncoder\n",
    "from sklearn.compose import make_column_transformer, TransformedTargetRegressor\n",
    "from sklearn.inspection import permutation_importance\n",
    "from sklearn.feature_selection import SequentialFeatureSelector\n",
    "import numpy as np\n",
    "import plotly.express as px\n",
    "import pandas as pd\n",
    "import warnings"
   ]
  },
  {
   "cell_type": "code",
   "execution_count": null,
   "metadata": {},
   "outputs": [],
   "source": []
  },
  {
   "cell_type": "code",
   "execution_count": 18,
   "metadata": {},
   "outputs": [],
   "source": [
    "cat_cols = ['SOUTH', 'SEX', 'UNION', 'RACE', 'OCCUPATION', 'SECTOR', 'MARR']"
   ]
  },
  {
   "cell_type": "code",
   "execution_count": 19,
   "metadata": {},
   "outputs": [],
   "source": [
    "ndf = pd.get_dummies(df, columns = cat_cols)"
   ]
  },
  {
   "cell_type": "code",
   "execution_count": 21,
   "metadata": {},
   "outputs": [
    {
     "data": {
      "text/html": [
       "<div>\n",
       "<style scoped>\n",
       "    .dataframe tbody tr th:only-of-type {\n",
       "        vertical-align: middle;\n",
       "    }\n",
       "\n",
       "    .dataframe tbody tr th {\n",
       "        vertical-align: top;\n",
       "    }\n",
       "\n",
       "    .dataframe thead th {\n",
       "        text-align: right;\n",
       "    }\n",
       "</style>\n",
       "<table border=\"1\" class=\"dataframe\">\n",
       "  <thead>\n",
       "    <tr style=\"text-align: right;\">\n",
       "      <th></th>\n",
       "      <th>EDUCATION</th>\n",
       "      <th>EXPERIENCE</th>\n",
       "      <th>WAGE</th>\n",
       "      <th>AGE</th>\n",
       "      <th>SOUTH_no</th>\n",
       "      <th>SOUTH_yes</th>\n",
       "      <th>SEX_female</th>\n",
       "      <th>SEX_male</th>\n",
       "      <th>UNION_member</th>\n",
       "      <th>UNION_not_member</th>\n",
       "      <th>...</th>\n",
       "      <th>OCCUPATION_Management</th>\n",
       "      <th>OCCUPATION_Other</th>\n",
       "      <th>OCCUPATION_Professional</th>\n",
       "      <th>OCCUPATION_Sales</th>\n",
       "      <th>OCCUPATION_Service</th>\n",
       "      <th>SECTOR_Construction</th>\n",
       "      <th>SECTOR_Manufacturing</th>\n",
       "      <th>SECTOR_Other</th>\n",
       "      <th>MARR_Married</th>\n",
       "      <th>MARR_Unmarried</th>\n",
       "    </tr>\n",
       "  </thead>\n",
       "  <tbody>\n",
       "    <tr>\n",
       "      <th>0</th>\n",
       "      <td>8.0</td>\n",
       "      <td>21.0</td>\n",
       "      <td>5.10</td>\n",
       "      <td>35.0</td>\n",
       "      <td>1</td>\n",
       "      <td>0</td>\n",
       "      <td>1</td>\n",
       "      <td>0</td>\n",
       "      <td>0</td>\n",
       "      <td>1</td>\n",
       "      <td>...</td>\n",
       "      <td>0</td>\n",
       "      <td>1</td>\n",
       "      <td>0</td>\n",
       "      <td>0</td>\n",
       "      <td>0</td>\n",
       "      <td>0</td>\n",
       "      <td>1</td>\n",
       "      <td>0</td>\n",
       "      <td>1</td>\n",
       "      <td>0</td>\n",
       "    </tr>\n",
       "    <tr>\n",
       "      <th>1</th>\n",
       "      <td>9.0</td>\n",
       "      <td>42.0</td>\n",
       "      <td>4.95</td>\n",
       "      <td>57.0</td>\n",
       "      <td>1</td>\n",
       "      <td>0</td>\n",
       "      <td>1</td>\n",
       "      <td>0</td>\n",
       "      <td>0</td>\n",
       "      <td>1</td>\n",
       "      <td>...</td>\n",
       "      <td>0</td>\n",
       "      <td>1</td>\n",
       "      <td>0</td>\n",
       "      <td>0</td>\n",
       "      <td>0</td>\n",
       "      <td>0</td>\n",
       "      <td>1</td>\n",
       "      <td>0</td>\n",
       "      <td>1</td>\n",
       "      <td>0</td>\n",
       "    </tr>\n",
       "    <tr>\n",
       "      <th>2</th>\n",
       "      <td>12.0</td>\n",
       "      <td>1.0</td>\n",
       "      <td>6.67</td>\n",
       "      <td>19.0</td>\n",
       "      <td>1</td>\n",
       "      <td>0</td>\n",
       "      <td>0</td>\n",
       "      <td>1</td>\n",
       "      <td>0</td>\n",
       "      <td>1</td>\n",
       "      <td>...</td>\n",
       "      <td>0</td>\n",
       "      <td>1</td>\n",
       "      <td>0</td>\n",
       "      <td>0</td>\n",
       "      <td>0</td>\n",
       "      <td>0</td>\n",
       "      <td>1</td>\n",
       "      <td>0</td>\n",
       "      <td>0</td>\n",
       "      <td>1</td>\n",
       "    </tr>\n",
       "    <tr>\n",
       "      <th>3</th>\n",
       "      <td>12.0</td>\n",
       "      <td>4.0</td>\n",
       "      <td>4.00</td>\n",
       "      <td>22.0</td>\n",
       "      <td>1</td>\n",
       "      <td>0</td>\n",
       "      <td>0</td>\n",
       "      <td>1</td>\n",
       "      <td>0</td>\n",
       "      <td>1</td>\n",
       "      <td>...</td>\n",
       "      <td>0</td>\n",
       "      <td>1</td>\n",
       "      <td>0</td>\n",
       "      <td>0</td>\n",
       "      <td>0</td>\n",
       "      <td>0</td>\n",
       "      <td>0</td>\n",
       "      <td>1</td>\n",
       "      <td>0</td>\n",
       "      <td>1</td>\n",
       "    </tr>\n",
       "    <tr>\n",
       "      <th>4</th>\n",
       "      <td>12.0</td>\n",
       "      <td>17.0</td>\n",
       "      <td>7.50</td>\n",
       "      <td>35.0</td>\n",
       "      <td>1</td>\n",
       "      <td>0</td>\n",
       "      <td>0</td>\n",
       "      <td>1</td>\n",
       "      <td>0</td>\n",
       "      <td>1</td>\n",
       "      <td>...</td>\n",
       "      <td>0</td>\n",
       "      <td>1</td>\n",
       "      <td>0</td>\n",
       "      <td>0</td>\n",
       "      <td>0</td>\n",
       "      <td>0</td>\n",
       "      <td>0</td>\n",
       "      <td>1</td>\n",
       "      <td>1</td>\n",
       "      <td>0</td>\n",
       "    </tr>\n",
       "  </tbody>\n",
       "</table>\n",
       "<p>5 rows × 24 columns</p>\n",
       "</div>"
      ],
      "text/plain": [
       "   EDUCATION  EXPERIENCE  WAGE   AGE  SOUTH_no  SOUTH_yes  SEX_female  \\\n",
       "0        8.0        21.0  5.10  35.0         1          0           1   \n",
       "1        9.0        42.0  4.95  57.0         1          0           1   \n",
       "2       12.0         1.0  6.67  19.0         1          0           0   \n",
       "3       12.0         4.0  4.00  22.0         1          0           0   \n",
       "4       12.0        17.0  7.50  35.0         1          0           0   \n",
       "\n",
       "   SEX_male  UNION_member  UNION_not_member  ...  OCCUPATION_Management  \\\n",
       "0         0             0                 1  ...                      0   \n",
       "1         0             0                 1  ...                      0   \n",
       "2         1             0                 1  ...                      0   \n",
       "3         1             0                 1  ...                      0   \n",
       "4         1             0                 1  ...                      0   \n",
       "\n",
       "   OCCUPATION_Other  OCCUPATION_Professional  OCCUPATION_Sales  \\\n",
       "0                 1                        0                 0   \n",
       "1                 1                        0                 0   \n",
       "2                 1                        0                 0   \n",
       "3                 1                        0                 0   \n",
       "4                 1                        0                 0   \n",
       "\n",
       "   OCCUPATION_Service  SECTOR_Construction  SECTOR_Manufacturing  \\\n",
       "0                   0                    0                     1   \n",
       "1                   0                    0                     1   \n",
       "2                   0                    0                     1   \n",
       "3                   0                    0                     0   \n",
       "4                   0                    0                     0   \n",
       "\n",
       "   SECTOR_Other  MARR_Married  MARR_Unmarried  \n",
       "0             0             1               0  \n",
       "1             0             1               0  \n",
       "2             0             0               1  \n",
       "3             1             0               1  \n",
       "4             1             1               0  \n",
       "\n",
       "[5 rows x 24 columns]"
      ]
     },
     "execution_count": 21,
     "metadata": {},
     "output_type": "execute_result"
    }
   ],
   "source": [
    "ndf.head()"
   ]
  },
  {
   "cell_type": "code",
   "execution_count": 24,
   "metadata": {},
   "outputs": [],
   "source": [
    "X_train, X_test, y_train, y_test = train_test_split(ndf.drop('WAGE', axis = 1), np.log1p(ndf.WAGE), random_state=42, test_size = 0.3)"
   ]
  },
  {
   "cell_type": "code",
   "execution_count": 30,
   "metadata": {},
   "outputs": [
    {
     "name": "stdout",
     "output_type": "stream",
     "text": [
      "Ridge Coefs: [ 0.09  0.05 -0.04  0.03 -0.03 -0.09  0.09  0.11 -0.11 -0.03 -0.03  0.06\n",
      " -0.01  0.19 -0.06  0.15 -0.1  -0.16  0.03  0.04 -0.08  0.02 -0.02]\n"
     ]
    }
   ],
   "source": [
    "model_1 = Ridge().fit(X_train, y_train)\n",
    "model_1_coefs = model_1.coef_\n",
    "print(f'Ridge Coefs: {np.round(model_1_coefs, 2)}')"
   ]
  },
  {
   "cell_type": "code",
   "execution_count": 31,
   "metadata": {},
   "outputs": [],
   "source": [
    "alphas = [0.001, 1.0, 10.0, 100.0]"
   ]
  },
  {
   "cell_type": "code",
   "execution_count": 37,
   "metadata": {},
   "outputs": [
    {
     "name": "stdout",
     "output_type": "stream",
     "text": [
      "For alpha = 100.0 we have the following coefficients:\n"
     ]
    },
    {
     "data": {
      "text/plain": [
       "[('EDUCATION', 0.04597853432520751),\n",
       " ('EXPERIENCE', -0.011162009917497976),\n",
       " ('AGE', 0.021812628817323425),\n",
       " ('SOUTH_no', 0.02553164237067024),\n",
       " ('SOUTH_yes', -0.025531642370670207),\n",
       " ('SEX_female', -0.059866996251041985),\n",
       " ('SEX_male', 0.059866996251041964),\n",
       " ('UNION_member', 0.05477943944182321),\n",
       " ('UNION_not_member', -0.05477943944182328),\n",
       " ('RACE_Hispanic', -0.008560845640496476),\n",
       " ('RACE_Other', -0.018430802618836558),\n",
       " ('RACE_White', 0.026991648259333045),\n",
       " ('OCCUPATION_Clerical', -0.02052252844934937),\n",
       " ('OCCUPATION_Management', 0.04458662024655539),\n",
       " ('OCCUPATION_Other', 0.00967718546124391),\n",
       " ('OCCUPATION_Professional', 0.04339430223592978),\n",
       " ('OCCUPATION_Sales', -0.024600748828942663),\n",
       " ('OCCUPATION_Service', -0.052534830665436606),\n",
       " ('SECTOR_Construction', 0.012260013130771422),\n",
       " ('SECTOR_Manufacturing', 0.023914429994528048),\n",
       " ('SECTOR_Other', -0.03617444312529954),\n",
       " ('MARR_Married', 0.016425197519411492),\n",
       " ('MARR_Unmarried', -0.016425197519411495)]"
      ]
     },
     "execution_count": 37,
     "metadata": {},
     "output_type": "execute_result"
    }
   ],
   "source": [
    "coef_list = []\n",
    "\n",
    "for alpha in alphas:\n",
    "    ridge = Ridge(alpha = alpha)\n",
    "    ridge.fit(X_train, y_train)\n",
    "    coef_list.append(list(ridge.coef_))\n",
    "    \n",
    "print('For alpha = 100.0 we have the following coefficients:')\n",
    "list(zip(X_train.columns, coef_list[-1]))"
   ]
  },
  {
   "cell_type": "code",
   "execution_count": null,
   "metadata": {},
   "outputs": [],
   "source": []
  },
  {
   "cell_type": "code",
   "execution_count": null,
   "metadata": {},
   "outputs": [],
   "source": []
  },
  {
   "cell_type": "code",
   "execution_count": 39,
   "metadata": {},
   "outputs": [],
   "source": [
    "X = ndf.drop('WAGE', axis = 1)\n",
    "y = ndf['WAGE']"
   ]
  },
  {
   "cell_type": "code",
   "execution_count": null,
   "metadata": {},
   "outputs": [],
   "source": []
  },
  {
   "cell_type": "code",
   "execution_count": 42,
   "metadata": {},
   "outputs": [
    {
     "name": "stderr",
     "output_type": "stream",
     "text": [
      "C:\\Users\\oyeye\\anaconda3\\lib\\site-packages\\sklearn\\linear_model\\_ridge.py:190: UserWarning: Singular matrix in solving dual problem. Using least-squares solution instead.\n",
      "  warnings.warn(\"Singular matrix in solving dual problem. Using \"\n"
     ]
    }
   ],
   "source": [
    "########ridge with small regularization penalty\n",
    "\n",
    "ridge_low_pipe = Pipeline([('poly_features', PolynomialFeatures(degree = 5, include_bias= False)), \n",
    "                     ('ridge_low', Ridge(alpha = 0.1))])\n",
    "ridge_low_pipe.fit(X, y)\n",
    "ridge_low_preds = ridge_low_pipe.predict(X)"
   ]
  },
  {
   "cell_type": "code",
   "execution_count": 43,
   "metadata": {
    "collapsed": true
   },
   "outputs": [
    {
     "data": {
      "text/plain": [
       "array([ 6.59184010e+00, -8.52686635e+00,  5.03851414e+00, -4.71813582e+00,\n",
       "        1.64339165e+01, -5.57654188e+00,  2.58765121e+00,  4.96887425e+00,\n",
       "        1.05473509e+01,  4.96887425e+00,  1.35029095e+01,  1.51602676e+01,\n",
       "        1.02070752e+01, -3.62550995e+00,  1.42788347e+01,  1.08479019e+01,\n",
       "        1.06981550e+01,  4.20316147e+00,  1.98743821e+01,  1.34340300e+01,\n",
       "        1.54613811e+01,  5.06842407e+00,  4.96887425e+00,  2.14657615e+01,\n",
       "        1.19507129e+01,  1.04527419e+01,  2.63819291e+00, -5.59677417e+00,\n",
       "        5.20451862e+00,  4.02048361e+00,  1.55594942e+01,  2.98647357e+00,\n",
       "        1.22165835e+01,  6.52038171e+00,  1.24274081e+01,  9.71885695e+00,\n",
       "        3.08648313e+01,  2.82472304e+00, -5.17146711e+00,  1.64184293e+01,\n",
       "       -3.74420962e-01,  1.99089852e+01,  6.80890952e+00, -1.78166048e+01,\n",
       "        2.27029526e+00, -1.79097591e+01,  6.03601816e+00,  1.82985961e+01,\n",
       "        1.38282926e+01,  2.92109858e+00,  2.07097153e+00,  4.38332024e+00,\n",
       "        6.92592944e+00, -2.43564288e+00,  3.04008769e+00,  2.85478168e+00,\n",
       "        5.60751792e+00,  2.56666415e+00,  1.85267525e+01,  9.18482608e+00,\n",
       "        2.08061473e+01,  9.92081188e+00,  6.86610357e+00,  5.33095045e+00,\n",
       "        1.50740661e+01,  1.29701584e+01, -2.53079894e+00,  9.63870583e+00,\n",
       "        2.13046193e+01,  1.26664381e+01,  5.50236879e-01,  5.96223151e+00,\n",
       "        1.78078841e+01, -2.38224383e+01,  5.94584059e+00,  4.02624203e+00,\n",
       "       -8.65491649e+00,  9.03983562e+00,  1.20991399e+01,  7.61230638e+00,\n",
       "        1.77695691e+01,  1.33229837e+01,  1.13430712e+01, -2.27645318e+00,\n",
       "        1.95636598e+01,  3.34593384e+00,  2.06503024e+01,  5.84133904e+00,\n",
       "        2.15165383e+00,  5.85433631e+00,  5.87476593e+00,  2.04833106e+01,\n",
       "       -3.21514444e+00, -2.85728286e+00,  2.04833106e+01,  3.28355269e+00,\n",
       "        2.49848100e+01,  9.89903855e+00, -2.07565609e+00,  1.47491680e+01,\n",
       "        1.85391664e+01, -7.44787627e+00,  2.50767969e+00,  2.04833106e+01,\n",
       "        2.27060228e+01,  1.64187801e+01,  5.95298756e+00,  1.34799244e+01,\n",
       "        7.91686411e+00, -4.82543403e-02,  4.03105845e+00,  2.11539965e+01,\n",
       "        1.80732863e+01,  1.39148090e+01, -6.97923424e+00,  3.17519072e+01,\n",
       "        2.59207879e+00,  1.01696506e+01,  7.74709768e+00,  1.18275039e+01,\n",
       "        5.69614372e+00,  4.62961985e+00,  6.63011854e+00,  3.87992027e+01,\n",
       "       -7.44155278e+00, -9.55635201e+00,  1.42770654e+01,  1.49995608e+01,\n",
       "        2.20927050e+01,  3.53666550e+00,  1.35201585e+01,  6.03049772e-01,\n",
       "        4.02048361e+00,  1.27040072e+01, -2.08473986e+00, -9.56592961e+00,\n",
       "       -4.73904300e+00,  1.45580229e-01,  2.22829949e+01,  6.06868539e+00,\n",
       "        3.19142216e+01,  1.18961292e+01,  2.03937814e+01,  9.93099179e+00,\n",
       "        2.74892545e+01,  8.57788388e+00,  8.14257202e+00,  1.56153726e+01,\n",
       "        3.34750776e+01,  1.08250768e+01,  8.75954791e-01,  3.84369091e+00,\n",
       "        6.48096160e-01, -1.10273454e+01, -4.52080605e+00,  5.77505540e+00,\n",
       "        1.48798426e+01,  8.28308686e+00,  7.36406046e-02,  4.22198907e+01,\n",
       "        1.08959878e+01,  1.83333895e+01,  7.42964052e+00,  5.71570557e+00,\n",
       "        2.23930346e+00,  9.02676225e-01,  3.20123776e+01,  3.37840592e+01,\n",
       "        1.74880636e+01,  5.33115488e+00,  2.43742905e+01,  1.30536240e+01,\n",
       "       -1.30848020e+01,  9.53207088e+00,  1.02451384e+01,  1.48798426e+01,\n",
       "        2.75788234e+01,  6.52899657e+00,  2.74465980e+00,  1.05382341e+01,\n",
       "        2.67525249e+01,  1.61584013e+00,  2.86276570e+01,  2.56722914e+00,\n",
       "        1.70852005e+01,  2.68311369e+01,  1.40387067e+01,  1.39885796e+01,\n",
       "        1.37712959e+01,  8.41121594e+00,  9.70776643e+00,  1.13790984e+00,\n",
       "       -4.64431206e+00,  1.12829158e+01,  1.55138852e+01,  2.92400620e+00,\n",
       "        1.84333097e+01,  1.17189138e+01,  1.87787922e+01,  1.20659397e+01,\n",
       "        1.50332299e+01,  1.00408383e+01,  1.96941608e+01,  1.70538334e+01,\n",
       "        1.07325831e+01, -1.23835453e+01,  2.08958092e+01,  2.28302392e+01,\n",
       "        4.88832801e+00,  1.40699956e+01,  2.33157802e+01,  1.57763429e+00,\n",
       "       -2.45196974e+00,  3.06527208e+01,  7.28210582e-01,  1.48738591e+01,\n",
       "       -1.46729531e-01,  1.12172322e+01,  1.01122401e+00, -1.01441398e+01,\n",
       "        1.21935994e+01,  7.52665004e+00,  2.58341885e+00,  4.01652199e+00,\n",
       "        1.92153287e+01, -1.38113079e+01,  2.32062604e+01,  1.01691454e+01,\n",
       "       -4.29715435e-01,  2.38982927e+01,  2.34103922e+01,  1.48191234e+01,\n",
       "        1.99484122e+01, -2.27194304e+00,  3.28864921e-01,  5.19839604e+00,\n",
       "        1.68974017e+01,  3.07297446e+00,  7.09058968e+00,  1.37401068e+01,\n",
       "        1.14901176e+01,  1.18341661e+01, -8.39100727e+00, -2.89622227e+00,\n",
       "       -4.92413652e+00,  3.18958011e+00,  1.58036910e+01,  1.24431171e+01,\n",
       "        9.43436054e+00,  1.07963978e+01,  1.09245331e+01,  9.53049079e+00,\n",
       "        3.34646866e+00,  6.30565164e+00,  1.02091459e+01,  1.19282501e+00,\n",
       "        2.22362696e+01,  1.30401699e+01,  2.92360935e+00,  4.04708259e+00,\n",
       "       -8.25248928e+00,  2.34606993e+00,  1.37832843e+01,  7.85902574e+00,\n",
       "        5.13759192e+00,  2.81102800e+00, -5.45938189e+00,  2.34606993e+00,\n",
       "       -6.32178622e+00,  2.18098168e+01,  1.64080669e+01,  1.47158314e+00,\n",
       "        1.96594680e+00,  5.99845746e+00, -4.64935929e+00,  2.42532934e+01,\n",
       "       -1.01094070e+01,  1.47572408e+01,  1.01393575e+01,  2.17806534e+01,\n",
       "        1.09825346e+01,  1.34903695e+01,  1.64800166e+01,  1.79576142e+01,\n",
       "        7.79994036e+00,  2.33823708e+01,  1.54599050e+01,  2.34606993e+00,\n",
       "        2.30038802e+01, -1.50539446e+00,  1.53552380e+01,  6.22574647e+00,\n",
       "        2.54472878e+00, -2.40699384e+00, -7.42545738e+00,  3.34646866e+00,\n",
       "       -3.63019688e+00,  1.30105632e+01,  1.94386119e+01,  2.35004568e+01,\n",
       "        6.42883757e+00,  1.26210702e+01,  1.79467118e+01,  5.25320896e+00,\n",
       "        1.07916363e+01,  9.14806349e+00,  1.17205803e+01,  1.10853189e+01,\n",
       "        1.36198466e+01,  1.36918972e+01,  1.63209369e+01,  6.84387730e+00,\n",
       "        1.79576142e+01,  1.11856946e+01,  1.07916363e+01, -4.63674198e+00,\n",
       "        4.27177034e+00,  9.51310719e+00, -1.53738881e+01,  7.94074538e+00,\n",
       "        4.02676793e+00,  2.14137805e+01,  1.54475286e+00,  1.19623218e+01,\n",
       "       -3.09122933e+00,  1.79577778e+01,  1.39085120e+01,  5.32293304e+00,\n",
       "       -6.53323169e-01,  1.69013020e+00, -2.56669699e+00,  5.17718398e+00,\n",
       "       -1.03092791e+00,  1.47940217e+01,  4.02676793e+00,  1.09632464e+01,\n",
       "       -1.86363572e+00, -3.63019688e+00,  3.42561802e+00,  5.09113114e+00,\n",
       "        1.47848814e+01,  9.86972681e+00,  1.33697059e+01,  5.04122565e+00,\n",
       "       -1.90583521e+00,  4.02676793e+00,  5.75758574e+00,  1.88368409e+01,\n",
       "        8.11042990e+00,  2.34255632e+01,  7.45280198e+00,  1.20620587e+01,\n",
       "       -6.99707843e+00,  8.44816644e+00,  1.39261440e+01,  5.20158565e+00,\n",
       "        3.33734867e+00, -8.41288116e-01,  3.71539658e-01, -6.18945812e+00,\n",
       "        1.68731364e+01,  2.46143150e+00,  7.59108863e+00, -2.32441051e+00,\n",
       "        1.47395255e+01,  2.71173824e+01,  1.78241718e+01, -2.43620797e+00,\n",
       "        3.86158573e+00,  4.85096634e+00,  6.59972152e+00,  9.89998801e+00,\n",
       "        6.05093546e+00,  4.33048625e+00, -1.02259195e+00,  1.41798188e+01,\n",
       "        7.47875162e+00,  1.50299463e+01, -2.39338093e+00,  6.94239995e+00,\n",
       "       -3.90402472e+00, -2.31931559e+00,  1.75197400e+01, -5.59837852e+00,\n",
       "       -4.56804859e+00, -3.47580962e+00,  1.85674851e+01, -4.45762246e+00,\n",
       "        1.23587370e+00,  1.12590560e+01,  5.34829458e-01,  3.40444180e+01,\n",
       "        1.18391604e+01,  6.46003475e+00,  2.23169857e+01, -5.70975395e+00,\n",
       "        2.14035913e+00,  1.87637830e+01,  1.50394145e+01,  2.34286841e+01,\n",
       "        2.76018007e+01,  2.71374354e+00, -4.04284259e+01, -2.90777935e-01,\n",
       "        1.91192951e+01,  8.30839024e+00,  9.93153987e+00,  9.17116392e+00,\n",
       "        5.76863508e-01,  2.30186116e+01,  2.01429105e+01, -2.86517180e+00,\n",
       "       -7.35231108e+00,  6.15381784e+00,  1.62622515e+01, -1.42166915e+01,\n",
       "        1.23708876e+01,  9.32754398e+00,  8.96929802e+00,  1.08128202e+01,\n",
       "        7.90614194e+00,  8.71103142e+00, -7.35148500e+00,  2.35702701e+01,\n",
       "        2.23169857e+01,  2.23877267e-02,  1.41965211e+01,  1.08443929e-01,\n",
       "       -4.44979591e+00,  9.65851052e+00,  2.18531909e+01,  1.21689511e+01,\n",
       "        1.59983158e+01,  1.68412809e+01,  2.44936998e+01,  1.93687432e+01,\n",
       "        8.08551040e+00,  9.22330471e+00,  6.50329648e+00,  9.03374866e+00,\n",
       "        1.25786279e+01,  5.88654056e+00, -6.30066634e+00,  1.04204742e+01,\n",
       "        3.62937757e+01,  2.46030776e+01, -1.64923525e+00,  7.65318596e+00,\n",
       "        7.56570340e+00,  1.05860046e+01,  2.07392972e+01,  6.97990103e+00,\n",
       "       -9.34384655e-02,  3.41127301e+00,  9.66569469e+00,  1.26717517e+01,\n",
       "        1.60052466e+01,  1.98158529e+01,  2.79572533e+00,  1.60878448e+01,\n",
       "        8.83097148e+00,  1.35571001e+00,  2.22749426e+01,  1.23339184e+01,\n",
       "        3.18292711e+00,  6.43036107e+00,  7.79307802e+00,  1.63690444e+01,\n",
       "        3.00172974e+01, -8.07968490e+00,  8.12216799e+00,  9.13275737e+00,\n",
       "        4.33071104e+00,  1.38764695e+01,  6.63144162e+00,  6.17772067e+00,\n",
       "        4.45782518e+00, -1.14372070e+01, -1.42433423e+01,  7.56570340e+00,\n",
       "        1.35443414e+01, -4.35293239e+00,  2.05569725e+01,  1.05908004e+01,\n",
       "        4.58427324e+01,  2.51410889e+01,  6.24257088e+00,  7.50027601e+00,\n",
       "        1.62269685e+01,  1.97692182e+01,  7.42195265e+00, -1.75141041e-01,\n",
       "        1.73909144e+01,  1.38764695e+01,  2.48553463e+01,  8.12718553e+00,\n",
       "        1.79051580e+01,  9.21784682e+00,  1.41286284e+01, -1.40326862e+00,\n",
       "        1.45540271e+01,  1.23362417e+01,  2.99329044e+01, -3.71415212e+00,\n",
       "        1.18088419e+01,  6.79970021e-01,  6.86478561e+00,  1.60878448e+01,\n",
       "        1.99077511e+01,  3.50268774e+01,  1.88456177e+01,  1.10210731e+01,\n",
       "        2.14739612e+01, -1.25783967e+00,  1.30950748e+01, -3.34983208e+00,\n",
       "        7.98612058e+00,  8.62061277e+00,  1.49583269e+01,  8.09421939e+00,\n",
       "        1.75856747e+00,  2.00922984e+01,  1.61402829e+00,  1.18698412e+01,\n",
       "        8.07178126e+00,  1.60018893e+01,  8.10500552e+00,  5.15239256e+00,\n",
       "        3.04943969e+00,  3.81914078e+01,  8.13517291e+00,  3.38135631e+01,\n",
       "        2.23569213e+01,  3.68856634e+01])"
      ]
     },
     "execution_count": 43,
     "metadata": {},
     "output_type": "execute_result"
    }
   ],
   "source": [
    "ridge_low_preds"
   ]
  },
  {
   "cell_type": "code",
   "execution_count": 44,
   "metadata": {},
   "outputs": [
    {
     "name": "stderr",
     "output_type": "stream",
     "text": [
      "C:\\Users\\oyeye\\anaconda3\\lib\\site-packages\\sklearn\\linear_model\\_ridge.py:187: LinAlgWarning: Ill-conditioned matrix (rcond=6.27381e-19): result may not be accurate.\n",
      "  dual_coef = linalg.solve(K, y, sym_pos=True,\n"
     ]
    }
   ],
   "source": [
    "########ridge with high regularization penalty\n",
    "\n",
    "ridge_high_pipe = Pipeline([('poly_features', PolynomialFeatures(degree = 5, include_bias= False)), \n",
    "                     ('ridge_high', Ridge(alpha = 1000))])\n",
    "ridge_high_pipe.fit(X, y)\n",
    "ridge_high_preds = ridge_high_pipe.predict(X)"
   ]
  },
  {
   "cell_type": "code",
   "execution_count": 45,
   "metadata": {
    "collapsed": true
   },
   "outputs": [
    {
     "data": {
      "text/plain": [
       "array([ 5.14633463,  6.29400853,  7.18288668,  6.46876379,  8.38864795,\n",
       "       12.85667083,  4.41552239,  8.61822869, 14.61653553,  8.61822869,\n",
       "       10.95395284, 11.57531147,  7.13190118,  6.16412825, 19.12687955,\n",
       "        9.26767455,  8.97228212, 22.19757707,  4.98198587, 19.17027692,\n",
       "        4.66024969,  7.78188687,  8.61822869,  4.43796206,  7.85377966,\n",
       "        8.86751851,  8.38747701,  6.44109635,  2.3886863 ,  6.75332349,\n",
       "       11.54965799,  6.19973622,  4.32607031,  5.58372454,  8.82313628,\n",
       "       10.86685294,  6.80843617,  8.82984521,  5.60142243, 11.36009148,\n",
       "        3.04259727, 10.60019478,  8.6065711 ,  4.42219072,  4.01221121,\n",
       "        4.71657364, 13.34454227,  5.49130399,  9.10468814,  7.35132825,\n",
       "        7.40329557, 10.73731162,  4.36967758,  4.94119376,  3.97928906,\n",
       "        5.21366459,  8.23997063,  6.97039765, 10.0899348 ,  5.57651375,\n",
       "        4.98880492, 10.75936221, 11.36683392, 12.75795406,  4.41329493,\n",
       "        8.96319166, 13.47530837, 11.61954142,  9.33395791,  8.97700827,\n",
       "        3.61716514, 20.91697852,  4.04102592,  3.80348935,  4.46666278,\n",
       "        3.60966306,  3.82581156, 11.23019054,  3.79826301, 15.92774811,\n",
       "       11.30094645, 11.53849132, 10.48191269,  3.48424933,  8.40693825,\n",
       "        9.64249801,  6.32877327,  9.9219358 ,  6.5502079 ,  8.00716271,\n",
       "        7.71822981, 11.81443652,  3.80368039,  3.08536916, 11.81443652,\n",
       "        7.54654654,  9.21422096, 17.38141958,  7.12679365,  9.8173201 ,\n",
       "       12.37353784,  8.89473536,  8.5470014 , 11.81443652, 16.92618046,\n",
       "        8.10800943, 22.00297553, 18.57456557,  9.44212472, 12.3693614 ,\n",
       "        9.57409751, 11.9055277 , 16.83103919,  4.14276863,  9.73313631,\n",
       "        3.98470385,  3.52041798, 11.67061202,  6.50515004,  7.06639792,\n",
       "        8.9978326 ,  4.68132528,  9.37804402, 11.67513643,  5.65526616,\n",
       "        6.32934035,  6.64662127,  8.48777867,  4.50189702,  4.45199184,\n",
       "        4.7786019 ,  5.63312823,  6.75332349,  5.07769144,  4.56073705,\n",
       "        6.6022037 ,  4.68787601,  4.35974238, 11.29656211,  6.50206285,\n",
       "        8.49658422, 11.26187756, 12.83464612, 10.71410565,  8.85130318,\n",
       "        7.92807847,  4.64611733, 16.67120336, 13.52601511,  5.94295699,\n",
       "        4.92226154, 10.91953855,  6.63494564,  8.86226807,  7.85008079,\n",
       "        7.90426689, 16.99823514, 16.43831745,  5.79236891,  2.67356706,\n",
       "       10.89208041, 20.62850978,  8.77222516,  7.21531123,  8.27411801,\n",
       "        6.54229848, 13.66977093,  5.26524488, 26.08977288,  6.52872585,\n",
       "       43.98596942, 13.08840782,  9.97222268,  9.6082045 ,  9.88623567,\n",
       "       16.99823514, 18.54376502, 17.42004785,  5.42604359, 10.13915585,\n",
       "       24.90690044,  6.67648513, 19.25595597,  8.47049613, 22.7302289 ,\n",
       "       15.40574295, 10.92226416, 10.01100405, 17.14668683, 14.31362646,\n",
       "       12.46399872,  4.78437978,  5.49395913, 10.20734098,  9.29573152,\n",
       "       11.10217563, 10.56922564, 13.67520424, 20.45680054,  4.34798936,\n",
       "       10.0133309 ,  9.68784993, 18.90268584,  6.73472748, 10.82567177,\n",
       "        3.51709245, 15.76408465,  9.71000149,  5.93772268, 15.26429851,\n",
       "       20.477635  ,  2.73791431,  8.28363252, 12.3899303 , 14.86195425,\n",
       "        7.8820692 ,  3.82649268,  7.48655266,  5.48416997,  3.03997703,\n",
       "       11.0600951 ,  3.87356652,  5.22017244,  4.93613704, 10.11827255,\n",
       "        5.0595899 , 11.5367734 ,  4.38326252,  1.76217236,  4.66114133,\n",
       "       24.79207249,  3.32246558,  4.65518319,  7.81399236,  6.77825643,\n",
       "        4.3450367 , 13.02851012,  3.51431156, 13.66199087,  9.91015992,\n",
       "        7.6366267 ,  3.23445309,  4.48486513,  9.84117534,  6.48763199,\n",
       "        3.08230134,  1.91823172,  6.63641248, 12.10242781,  4.78584493,\n",
       "        7.67614326,  9.89961592,  8.98914127,  9.21882805,  9.19488684,\n",
       "        5.44469291, 11.42258558, 10.13663343,  5.24234811,  8.15381821,\n",
       "        4.05742308,  7.75674691,  8.56737167, 12.00369355,  8.09407021,\n",
       "        6.18158055,  4.64300942,  7.75674691,  8.45850691,  9.70218434,\n",
       "       11.6668243 ,  4.65190287,  6.99829689, 10.66086304,  4.41715466,\n",
       "        9.86423913,  3.65332519,  6.97559839,  7.39421221,  8.8336812 ,\n",
       "        2.89813527,  5.16902146,  2.85332639,  3.67813494,  8.5290953 ,\n",
       "       10.27858171, 12.17229525,  7.75674691, 12.68911096,  5.66315288,\n",
       "        3.58224346,  6.13195733, 12.29938127, 10.397632  ,  6.09985448,\n",
       "        8.98914127,  4.95087973, 10.75040033,  4.12559484,  9.12202976,\n",
       "        5.04118844,  4.65246496, 11.77408736,  7.86868711,  5.89990252,\n",
       "        8.40039498,  8.99791515,  6.29035382,  5.58237887,  5.66460481,\n",
       "        2.53557808,  9.55083186,  3.67813494,  8.5131159 ,  5.89990252,\n",
       "        6.69087979,  8.17988019,  7.7098962 ,  7.25252947, 12.6690295 ,\n",
       "        6.99924152,  5.34974696,  9.97115229,  5.17768628,  4.15920773,\n",
       "       12.66603549, 12.52129663,  5.15718748,  7.1573741 ,  6.99135471,\n",
       "        7.15897121, 14.41028037,  4.28069643,  8.7892804 ,  6.99924152,\n",
       "        6.85811497,  7.44597021,  4.95087973,  2.97025632,  0.73378215,\n",
       "       13.7481738 ,  6.4735031 ,  4.5140249 ,  7.85333355,  9.21443991,\n",
       "        6.99924152,  6.67837159,  6.91256067,  3.47343235,  5.80514591,\n",
       "        3.47521949,  8.90911164,  5.04692593, 16.28600219,  5.37455916,\n",
       "        7.30579959,  3.68810061,  4.97108872,  3.40704194, 15.38882903,\n",
       "        3.28864227,  4.30158547,  7.73469598,  4.00265647,  6.92509019,\n",
       "        3.81777096,  3.28557721,  6.81094665,  6.26464823,  9.27872691,\n",
       "        5.90798649,  6.62745444,  4.69818305,  5.6406511 ,  6.88964411,\n",
       "        5.4050742 ,  7.21096403,  4.87705037,  1.58502263,  3.06932187,\n",
       "        9.67519076,  6.6713868 ,  8.04764552,  3.27495822,  2.86061333,\n",
       "        3.58228118,  5.40642449,  6.86716797,  2.54099689,  7.61868546,\n",
       "        5.23407287,  7.31087207, 14.14809938, 13.87057909,  6.3786062 ,\n",
       "        4.97493679,  9.20475088,  6.73068548,  1.63417663,  6.95879567,\n",
       "       10.06567513,  6.44299362,  7.47484222,  6.28519761,  8.18397915,\n",
       "        7.05762244,  8.25923508,  3.90844138,  4.93239191, 25.34001991,\n",
       "        9.83276278, 10.07832169,  3.17284588,  7.8272571 ,  4.64014445,\n",
       "        2.31092262,  4.09182531, 12.97967283,  3.67967824,  6.14067833,\n",
       "       12.91857939,  4.74218425,  3.27612342, 12.66043135,  6.3786062 ,\n",
       "        5.78062686,  9.35780012,  4.34686232,  8.63153618,  9.41899282,\n",
       "       17.4198877 , 24.66330602, 11.89678314, 20.65390681,  9.05261162,\n",
       "       17.90542751, 18.72756918,  5.64700075,  8.299217  ,  9.04456241,\n",
       "        8.9486004 , 11.1081532 ,  5.59833779,  9.30815539, 17.46917325,\n",
       "       19.88680636,  6.07517455,  9.51982909, 14.73099216, 23.70860771,\n",
       "       10.42687495, 13.83396025, 10.18575691, 10.52658509,  7.45862102,\n",
       "       11.14082457,  8.50124267, 14.04894709,  5.85485631, 16.30354993,\n",
       "       11.10723267, 11.05104075,  5.70890893, 13.22268429,  7.67064802,\n",
       "        5.18122669, 10.79040305,  8.5735694 ,  7.04056404,  5.3809267 ,\n",
       "       15.4853773 , 11.90808994, 13.15437442, 10.58321963,  4.48890802,\n",
       "        7.51460358,  3.83551623,  5.74903594,  4.27242118, 14.73099216,\n",
       "        4.73446136,  9.27194577, 16.82276389, 12.19454113, 20.84168177,\n",
       "       22.21478928, 16.21668746,  8.72702285, 10.98601209, 10.38915966,\n",
       "        8.99343068, 14.95141323, 20.53708888, 10.58321963, 24.4481179 ,\n",
       "       10.55714572, 27.7222279 ,  9.89534852,  9.86718049, 11.6409562 ,\n",
       "       12.28882459, 13.4963305 , 24.74261091,  2.88187683, 11.61912264,\n",
       "        7.07632581,  8.13090889, 16.30354993, 10.95931597,  8.78116921,\n",
       "       12.21129036, 11.19722825, 11.98721534, 13.90416007, 10.42241274,\n",
       "        7.53926953, 14.31993043,  7.22260644,  9.03925875,  6.74849015,\n",
       "        8.98530026, 22.08846318,  7.4836211 ,  4.73243564,  4.67154289,\n",
       "        9.77494957, 15.17045525, 16.65833749, 12.00084939, 11.01219579,\n",
       "        6.68086011, 22.93338772, 19.86275381, 16.18216124])"
      ]
     },
     "execution_count": 45,
     "metadata": {},
     "output_type": "execute_result"
    }
   ],
   "source": [
    "ridge_high_preds"
   ]
  },
  {
   "cell_type": "code",
   "execution_count": null,
   "metadata": {},
   "outputs": [],
   "source": []
  },
  {
   "cell_type": "code",
   "execution_count": 48,
   "metadata": {},
   "outputs": [],
   "source": [
    "scaled_pipe = Pipeline([('scaler', StandardScaler()), ('ridge', Ridge())]).fit(X_train, y_train)\n",
    "train_preds = scaled_pipe.predict(X_train)\n",
    "test_preds = scaled_pipe.predict(X_test)\n",
    "train_mse = mean_squared_error(y_train, train_preds)\n",
    "test_mse = mean_squared_error(y_test, test_preds)"
   ]
  },
  {
   "cell_type": "code",
   "execution_count": 49,
   "metadata": {},
   "outputs": [
    {
     "data": {
      "text/plain": [
       "0.1352300474504382"
      ]
     },
     "execution_count": 49,
     "metadata": {},
     "output_type": "execute_result"
    }
   ],
   "source": [
    "train_mse"
   ]
  },
  {
   "cell_type": "code",
   "execution_count": 50,
   "metadata": {},
   "outputs": [
    {
     "data": {
      "text/plain": [
       "0.14463248680103416"
      ]
     },
     "execution_count": 50,
     "metadata": {},
     "output_type": "execute_result"
    }
   ],
   "source": [
    "test_mse"
   ]
  },
  {
   "cell_type": "code",
   "execution_count": null,
   "metadata": {},
   "outputs": [],
   "source": []
  },
  {
   "cell_type": "code",
   "execution_count": 51,
   "metadata": {},
   "outputs": [],
   "source": [
    "pipe = Pipeline([('scale', StandardScaler()), ('ridge', Ridge())])"
   ]
  },
  {
   "cell_type": "code",
   "execution_count": 52,
   "metadata": {},
   "outputs": [],
   "source": [
    "param_dict = {'ridge__alpha': [0.001, 0.1, 1.0, 10.0, 100.0, 1000.0]}"
   ]
  },
  {
   "cell_type": "code",
   "execution_count": 53,
   "metadata": {},
   "outputs": [],
   "source": [
    "grid_2 = GridSearchCV(pipe, param_grid=param_dict)\n",
    "grid_2.fit(X_train, y_train)\n",
    "train_preds = grid_2.predict(X_train)\n",
    "test_preds = grid_2.predict(X_test)\n",
    "model_2_train_mse = mean_squared_error(y_train, train_preds)\n",
    "model_2_test_mse = mean_squared_error(y_test, test_preds)\n",
    "model_2_best_alpha = grid_2.best_params_"
   ]
  },
  {
   "cell_type": "code",
   "execution_count": 55,
   "metadata": {},
   "outputs": [
    {
     "data": {
      "text/plain": [
       "0.1365495971621039"
      ]
     },
     "execution_count": 55,
     "metadata": {},
     "output_type": "execute_result"
    }
   ],
   "source": [
    "model_2_train_mse"
   ]
  },
  {
   "cell_type": "code",
   "execution_count": 54,
   "metadata": {},
   "outputs": [
    {
     "data": {
      "text/plain": [
       "0.14840849768895062"
      ]
     },
     "execution_count": 54,
     "metadata": {},
     "output_type": "execute_result"
    }
   ],
   "source": [
    "model_2_test_mse"
   ]
  },
  {
   "cell_type": "code",
   "execution_count": 56,
   "metadata": {},
   "outputs": [
    {
     "data": {
      "text/plain": [
       "{'ridge__alpha': 100.0}"
      ]
     },
     "execution_count": 56,
     "metadata": {},
     "output_type": "execute_result"
    }
   ],
   "source": [
    "model_2_best_alpha"
   ]
  },
  {
   "cell_type": "code",
   "execution_count": null,
   "metadata": {},
   "outputs": [],
   "source": []
  },
  {
   "cell_type": "code",
   "execution_count": null,
   "metadata": {},
   "outputs": [],
   "source": []
  },
  {
   "cell_type": "code",
   "execution_count": null,
   "metadata": {},
   "outputs": [],
   "source": []
  },
  {
   "cell_type": "code",
   "execution_count": null,
   "metadata": {},
   "outputs": [],
   "source": []
  },
  {
   "cell_type": "code",
   "execution_count": null,
   "metadata": {},
   "outputs": [],
   "source": []
  }
 ],
 "metadata": {
  "kernelspec": {
   "display_name": "Python 3",
   "language": "python",
   "name": "python3"
  },
  "language_info": {
   "codemirror_mode": {
    "name": "ipython",
    "version": 3
   },
   "file_extension": ".py",
   "mimetype": "text/x-python",
   "name": "python",
   "nbconvert_exporter": "python",
   "pygments_lexer": "ipython3",
   "version": "3.8.8"
  },
  "widgets": {
   "application/vnd.jupyter.widget-state+json": {
    "state": {},
    "version_major": 2,
    "version_minor": 0
   }
  }
 },
 "nbformat": 4,
 "nbformat_minor": 4
}
